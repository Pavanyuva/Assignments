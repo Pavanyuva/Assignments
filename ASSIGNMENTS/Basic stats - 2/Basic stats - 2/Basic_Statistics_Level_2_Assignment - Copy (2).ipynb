{
  "nbformat": 4,
  "nbformat_minor": 0,
  "metadata": {
    "colab": {
      "provenance": []
    },
    "kernelspec": {
      "name": "python3",
      "display_name": "Python 3"
    },
    "language_info": {
      "name": "python"
    }
  },
  "cells": [
    {
      "cell_type": "markdown",
      "source": [
        "# **Estimation And Confidence Intervels**"
      ],
      "metadata": {
        "id": "q87ls9cznGKu"
      }
    },
    {
      "cell_type": "markdown",
      "source": [
        "\n",
        "**Background:**\n",
        "In quality control processes, especially when dealing with high-value items, destructive sampling is a necessary but costly method to ensure product quality. The test to determine whether an item meets the quality standards destroys the item, leading to the requirement of small sample sizes due to cost constraints.\n",
        "\n"
      ],
      "metadata": {
        "id": "gZOyF4i_nX-7"
      }
    },
    {
      "cell_type": "markdown",
      "source": [
        "**Scenario:**\n",
        "A manufacturer of print-heads for personal computers is interested in estimating the mean durability of their print-heads in terms of the number of characters printed before failure. To assess this, the manufacturer conducts a study on a small sample of print-heads due to the destructive nature of the testing process."
      ],
      "metadata": {
        "id": "K8iRwN7YnrJ-"
      }
    },
    {
      "cell_type": "markdown",
      "source": [
        "**Given Data:**\n",
        "A total of 15 print-heads were randomly selected and tested until failure. The durability of each print-head (in millions of characters) was recorded as follows:\n",
        "1.13, 1.55, 1.43, 0.92, 1.25, 1.36, 1.32, 0.85, 1.07, 1.48, 1.20, 1.33, 1.18, 1.22, 1.29\n"
      ],
      "metadata": {
        "id": "mCF-EXjMoRpF"
      }
    },
    {
      "cell_type": "markdown",
      "source": [
        "# **Assignment Tasks**"
      ],
      "metadata": {
        "id": "lzg0EYx_xtiY"
      }
    },
    {
      "cell_type": "markdown",
      "source": [
        "**a. Build 99% Confidence Interval Using Sample Standard Deviation**"
      ],
      "metadata": {
        "id": "TWs1G3l1yIii"
      }
    },
    {
      "cell_type": "code",
      "source": [
        "import numpy as np\n",
        "import pandas as pd\n",
        "from scipy import stats\n",
        "from scipy.stats import t"
      ],
      "metadata": {
        "id": "9pjKjxeznRKQ"
      },
      "execution_count": 3,
      "outputs": []
    },
    {
      "cell_type": "code",
      "source": [
        "# Sample data\n",
        "data = np.array([1.13, 1.55, 1.43, 0.92, 1.25, 1.36, 1.32, 0.85, 1.07, 1.48, 1.20, 1.33, 1.18, 1.22, 1.29])\n",
        "data"
      ],
      "metadata": {
        "colab": {
          "base_uri": "https://localhost:8080/"
        },
        "id": "DA0snk-5o71x",
        "outputId": "87501c05-cb1b-4016-ac87-7fd0b3251775"
      },
      "execution_count": 4,
      "outputs": [
        {
          "output_type": "execute_result",
          "data": {
            "text/plain": [
              "array([1.13, 1.55, 1.43, 0.92, 1.25, 1.36, 1.32, 0.85, 1.07, 1.48, 1.2 ,\n",
              "       1.33, 1.18, 1.22, 1.29])"
            ]
          },
          "metadata": {},
          "execution_count": 4
        }
      ]
    },
    {
      "cell_type": "code",
      "source": [
        "# Calculate sample mean and standard deviation\n",
        "Mean = np.mean(data)\n",
        "Stdev = np.std(data, ddof=1)\n",
        "print(\"Sample Mean :\", Mean)\n",
        "print(\"Sample Standard Deviation \", Stdev)\n"
      ],
      "metadata": {
        "colab": {
          "base_uri": "https://localhost:8080/"
        },
        "id": "hjjhb-Ajpo2i",
        "outputId": "dd9b84cf-8a62-4610-a52f-6fec38edd071"
      },
      "execution_count": 7,
      "outputs": [
        {
          "output_type": "stream",
          "name": "stdout",
          "text": [
            "Sample Mean : 1.2386666666666666\n",
            "Sample Standard Deviation  0.19316412956959936\n"
          ]
        }
      ]
    },
    {
      "cell_type": "code",
      "source": [
        "# Degrees of freedom\n",
        "df = len(data) - 1\n",
        "print(\"Degrees of Freedom :\", df)\n",
        "\n"
      ],
      "metadata": {
        "colab": {
          "base_uri": "https://localhost:8080/"
        },
        "id": "pSH66asPthSL",
        "outputId": "d5c7d89c-ec16-4a64-ba13-1ee7baeae3ce"
      },
      "execution_count": 9,
      "outputs": [
        {
          "output_type": "stream",
          "name": "stdout",
          "text": [
            "Degrees of Freedom : 14\n"
          ]
        }
      ]
    },
    {
      "cell_type": "code",
      "source": [
        "# Critical t-value\n",
        "t_crit = t.ppf(0.995, df)\n",
        "print(\"Critical t-value :\", t_crit)"
      ],
      "metadata": {
        "colab": {
          "base_uri": "https://localhost:8080/"
        },
        "id": "RECC3tDmuTpp",
        "outputId": "27eda3cd-fa9b-46ca-c2d5-1d41ac890a56"
      },
      "execution_count": 10,
      "outputs": [
        {
          "output_type": "stream",
          "name": "stdout",
          "text": [
            "Critical t-value : 2.976842734370834\n"
          ]
        }
      ]
    },
    {
      "cell_type": "code",
      "source": [
        "# Standard error\n",
        "SE = Stdev/ np.sqrt(len(data))\n",
        "print(\"Standard Error :\", SE)"
      ],
      "metadata": {
        "colab": {
          "base_uri": "https://localhost:8080/"
        },
        "id": "pZuBxgxAupkQ",
        "outputId": "4bfa418c-3366-4b55-f55c-444ef3f2b77d"
      },
      "execution_count": 11,
      "outputs": [
        {
          "output_type": "stream",
          "name": "stdout",
          "text": [
            "Standard Error : 0.04987476379384733\n"
          ]
        }
      ]
    },
    {
      "cell_type": "code",
      "source": [
        "# Confidence interval\n",
        "Lower_limit = (Mean-(t_crit*SE))\n",
        "Upper_limit = (Mean+(t_crit*SE))\n",
        "print(\"99% Confidence Interval Using Sample Standard Deviation is:\", (Lower_limit,Upper_limit))"
      ],
      "metadata": {
        "colab": {
          "base_uri": "https://localhost:8080/"
        },
        "id": "n8chfsCXvIf8",
        "outputId": "0d224041-951f-4f0e-d06f-7d1eb2265355"
      },
      "execution_count": 12,
      "outputs": [
        {
          "output_type": "stream",
          "name": "stdout",
          "text": [
            "99% Confidence Interval Using Sample Standard Deviation is: (1.0901973384384906, 1.3871359948948425)\n"
          ]
        }
      ]
    },
    {
      "cell_type": "markdown",
      "source": [
        "**b. Build 99% Confidence Interval Using Known Population Standard Deviation**"
      ],
      "metadata": {
        "id": "bnc7MryCyQQY"
      }
    },
    {
      "cell_type": "code",
      "source": [
        "import numpy as np\n",
        "from scipy.stats import norm\n"
      ],
      "metadata": {
        "id": "pRH8mKWx4fA2"
      },
      "execution_count": 14,
      "outputs": []
    },
    {
      "cell_type": "code",
      "source": [
        "# Sample data\n",
        "data = np.array([1.13, 1.55, 1.43, 0.92, 1.25, 1.36, 1.32, 0.85, 1.07, 1.48, 1.20, 1.33, 1.18, 1.22, 1.29])\n",
        "data"
      ],
      "metadata": {
        "colab": {
          "base_uri": "https://localhost:8080/"
        },
        "id": "ccyeFIbA4vkB",
        "outputId": "664fadcf-310d-45ce-d054-3c6e90649c18"
      },
      "execution_count": 15,
      "outputs": [
        {
          "output_type": "execute_result",
          "data": {
            "text/plain": [
              "array([1.13, 1.55, 1.43, 0.92, 1.25, 1.36, 1.32, 0.85, 1.07, 1.48, 1.2 ,\n",
              "       1.33, 1.18, 1.22, 1.29])"
            ]
          },
          "metadata": {},
          "execution_count": 15
        }
      ]
    },
    {
      "cell_type": "code",
      "source": [
        "# Calculate sample mean\n",
        "Mean = np.mean(data)\n",
        "print(\"Sample Mean :\", Mean)\n"
      ],
      "metadata": {
        "colab": {
          "base_uri": "https://localhost:8080/"
        },
        "id": "s5Q6B_x56gS8",
        "outputId": "256648db-29c1-40b9-8d75-0b44e1a4db9e"
      },
      "execution_count": 16,
      "outputs": [
        {
          "output_type": "stream",
          "name": "stdout",
          "text": [
            "Sample Mean : 1.2386666666666666\n"
          ]
        }
      ]
    },
    {
      "cell_type": "code",
      "source": [
        "# Known population standard deviation\n",
        "sigma = 0.2\n"
      ],
      "metadata": {
        "id": "bCqWF7XI6qvs"
      },
      "execution_count": 17,
      "outputs": []
    },
    {
      "cell_type": "code",
      "source": [
        "# Sample size\n",
        "n = len(data)\n",
        "print(\"Sample Size :\", n)"
      ],
      "metadata": {
        "colab": {
          "base_uri": "https://localhost:8080/"
        },
        "id": "5F8bWt7c7INB",
        "outputId": "d71b2e4a-aec0-4fda-87dd-5953ec2bf009"
      },
      "execution_count": 19,
      "outputs": [
        {
          "output_type": "stream",
          "name": "stdout",
          "text": [
            "Sample Size : 15\n"
          ]
        }
      ]
    },
    {
      "cell_type": "code",
      "source": [
        "# Degrees of freedom\n",
        "df = n - 1\n",
        "print(\"Degrees of Freedom :\", df)\n"
      ],
      "metadata": {
        "colab": {
          "base_uri": "https://localhost:8080/"
        },
        "id": "NzatEQzq67fz",
        "outputId": "3c3500fa-63b3-4138-cb1a-241cefdcfd9b"
      },
      "execution_count": 20,
      "outputs": [
        {
          "output_type": "stream",
          "name": "stdout",
          "text": [
            "Degrees of Freedom : 14\n"
          ]
        }
      ]
    },
    {
      "cell_type": "code",
      "source": [
        "# Critical t-value\n",
        "t_crit = t.ppf(0.995, df)\n",
        "print(\"Critical t-value :\", t_crit)"
      ],
      "metadata": {
        "colab": {
          "base_uri": "https://localhost:8080/"
        },
        "id": "oOETbSHG7Ssc",
        "outputId": "6a71ba63-6300-4f5f-9ce4-a37b04762292"
      },
      "execution_count": 24,
      "outputs": [
        {
          "output_type": "stream",
          "name": "stdout",
          "text": [
            "Critical t-value : 2.976842734370834\n"
          ]
        }
      ]
    },
    {
      "cell_type": "code",
      "source": [
        "# Standard error\n",
        "SE = sigma / np.sqrt(n)\n",
        "print(\"Standard Error :\", SE)\n",
        "\n"
      ],
      "metadata": {
        "colab": {
          "base_uri": "https://localhost:8080/"
        },
        "id": "DK5rLnWc75ao",
        "outputId": "2021e14b-83d7-41a6-9e1e-302b8a205a95"
      },
      "execution_count": 22,
      "outputs": [
        {
          "output_type": "stream",
          "name": "stdout",
          "text": [
            "Standard Error : 0.051639777949432225\n"
          ]
        }
      ]
    },
    {
      "cell_type": "code",
      "source": [
        "# Confidence interval\n",
        "Lower_limit = (Mean-(t_crit*SE))\n",
        "Upper_limit = (Mean+(t_crit*SE))\n",
        "print(\"99% Confidence Interval Using Known Population Standard Deviation is:\", (Lower_limit,Upper_limit))"
      ],
      "metadata": {
        "colab": {
          "base_uri": "https://localhost:8080/"
        },
        "id": "gm_X5aAq8Ra1",
        "outputId": "6668ea6c-d914-4deb-f0b5-dd7151ea9e4f"
      },
      "execution_count": 25,
      "outputs": [
        {
          "output_type": "stream",
          "name": "stdout",
          "text": [
            "99% Confidence Interval Using Known Population Standard Deviation is: (1.0849431688733762, 1.392390164459957)\n"
          ]
        }
      ]
    }
  ]
}