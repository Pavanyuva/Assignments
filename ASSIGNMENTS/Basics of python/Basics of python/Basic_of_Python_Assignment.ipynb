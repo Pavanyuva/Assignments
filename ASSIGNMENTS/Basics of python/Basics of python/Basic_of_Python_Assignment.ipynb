{
  "nbformat": 4,
  "nbformat_minor": 0,
  "metadata": {
    "colab": {
      "provenance": []
    },
    "kernelspec": {
      "name": "python3",
      "display_name": "Python 3"
    },
    "language_info": {
      "name": "python"
    }
  },
  "cells": [
    {
      "cell_type": "markdown",
      "source": [
        "Exercise 1: Prime Numbers\n",
        "\n",
        "\n",
        "Write a Python program that checks whether a given number is prime or not. A prime number is a natural number greater than 1 that has no positive divisors other than 1 and itself.\n"
      ],
      "metadata": {
        "id": "SIISjFOmB_cP"
      }
    },
    {
      "cell_type": "code",
      "source": [
        "num = 97\n",
        "if num > 1:\n",
        "    for i in range(2, (num//2)+1):\n",
        "        if (num % i) == 0:\n",
        "            print(num, \"is not a prime number\")\n",
        "            break\n",
        "    else:\n",
        "        print(num, \"is a prime number\")\n",
        "else:\n",
        "    print(num, \"is not a prime number\")"
      ],
      "metadata": {
        "colab": {
          "base_uri": "https://localhost:8080/"
        },
        "id": "0KLHnTSCCIAZ",
        "outputId": "50e64877-bbb2-4005-b669-3df60b185c1d"
      },
      "execution_count": null,
      "outputs": [
        {
          "output_type": "stream",
          "name": "stdout",
          "text": [
            "97 is a prime number\n"
          ]
        }
      ]
    },
    {
      "cell_type": "markdown",
      "source": [
        "Exercise 2: Product of Random Numbers\n",
        "\n",
        "  Develop a Python program that generates two random numbers and asks the user to enter the product of these numbers. The program should then check if the user's answer is correct and display an appropriate message.\n"
      ],
      "metadata": {
        "id": "Y9kCv6i0CbjY"
      }
    },
    {
      "cell_type": "code",
      "source": [
        "import random\n",
        "num1 = random.randint(1, 100)\n",
        "num2 = random.randint(1, 100)\n",
        "product = num1 * num2\n",
        "print(f\"The random numbers are {num1} and {num2}\")\n",
        "print(f\"The product of {num1} and {num2} is {product}\")"
      ],
      "metadata": {
        "colab": {
          "base_uri": "https://localhost:8080/"
        },
        "id": "rCwrQuuVCjKs",
        "outputId": "a75c69ae-ec8b-416a-eaf8-a3f147ae122b"
      },
      "execution_count": null,
      "outputs": [
        {
          "output_type": "stream",
          "name": "stdout",
          "text": [
            "The random numbers are 13 and 40\n",
            "The product of 13 and 40 is 520\n"
          ]
        }
      ]
    },
    {
      "cell_type": "markdown",
      "source": [
        "Exercise 3: Squares of Even/Odd Numbers\n",
        "\n",
        "  Create a Python script that prints the squares of all even or odd numbers within the range of 100 to 200. Choose either even or odd numbers and document your choice in the code.\n"
      ],
      "metadata": {
        "id": "PVMdKC1pEEy-"
      }
    },
    {
      "cell_type": "code",
      "source": [
        "\n",
        "def print_squares_of_even_numbers():\n",
        "    for num in range(100, 201):\n",
        "        if num % 2 == 0:\n",
        "            print(f\"The square of {num} is {num ** 2}\")\n",
        "print_squares_of_even_numbers()\n",
        "\n",
        "\n"
      ],
      "metadata": {
        "colab": {
          "base_uri": "https://localhost:8080/"
        },
        "id": "PbITMzVcEUvW",
        "outputId": "ec6308f8-a862-4488-915b-6fb772bfd964",
        "collapsed": true
      },
      "execution_count": 1,
      "outputs": [
        {
          "output_type": "stream",
          "name": "stdout",
          "text": [
            "The square of 100 is 10000\n",
            "The square of 102 is 10404\n",
            "The square of 104 is 10816\n",
            "The square of 106 is 11236\n",
            "The square of 108 is 11664\n",
            "The square of 110 is 12100\n",
            "The square of 112 is 12544\n",
            "The square of 114 is 12996\n",
            "The square of 116 is 13456\n",
            "The square of 118 is 13924\n",
            "The square of 120 is 14400\n",
            "The square of 122 is 14884\n",
            "The square of 124 is 15376\n",
            "The square of 126 is 15876\n",
            "The square of 128 is 16384\n",
            "The square of 130 is 16900\n",
            "The square of 132 is 17424\n",
            "The square of 134 is 17956\n",
            "The square of 136 is 18496\n",
            "The square of 138 is 19044\n",
            "The square of 140 is 19600\n",
            "The square of 142 is 20164\n",
            "The square of 144 is 20736\n",
            "The square of 146 is 21316\n",
            "The square of 148 is 21904\n",
            "The square of 150 is 22500\n",
            "The square of 152 is 23104\n",
            "The square of 154 is 23716\n",
            "The square of 156 is 24336\n",
            "The square of 158 is 24964\n",
            "The square of 160 is 25600\n",
            "The square of 162 is 26244\n",
            "The square of 164 is 26896\n",
            "The square of 166 is 27556\n",
            "The square of 168 is 28224\n",
            "The square of 170 is 28900\n",
            "The square of 172 is 29584\n",
            "The square of 174 is 30276\n",
            "The square of 176 is 30976\n",
            "The square of 178 is 31684\n",
            "The square of 180 is 32400\n",
            "The square of 182 is 33124\n",
            "The square of 184 is 33856\n",
            "The square of 186 is 34596\n",
            "The square of 188 is 35344\n",
            "The square of 190 is 36100\n",
            "The square of 192 is 36864\n",
            "The square of 194 is 37636\n",
            "The square of 196 is 38416\n",
            "The square of 198 is 39204\n",
            "The square of 200 is 40000\n"
          ]
        }
      ]
    },
    {
      "cell_type": "markdown",
      "source": [
        "Exercise 4: Word counter\n",
        "\n",
        "  write a program to count the number of words in a given text.\n",
        "  example:\n",
        "  input_text = \"This is a sample text. This text will be used to demonstrate the word counter.\"\n",
        "  Expected output:\n",
        "  'This': 2\n",
        "  'is': 1\n",
        "  'a': 1\n",
        "  'sample': 1\n",
        "  'text.': 1\n"
      ],
      "metadata": {
        "id": "0mlwjPZWFY0-"
      }
    },
    {
      "cell_type": "code",
      "source": [
        "\n",
        "input_text = \"This is a sample text. This text will be used to demonstrate the word counter.\"\n",
        "\n",
        "words = input_text.split()\n",
        "word_count = {}\n",
        "for word in words:\n",
        "    if word in word_count:\n",
        "        word_count[word] += 1\n",
        "    else:\n",
        "        word_count[word] = 1\n",
        "for word in word_count:\n",
        "    print(word, \":\", word_count[word])\n"
      ],
      "metadata": {
        "colab": {
          "base_uri": "https://localhost:8080/"
        },
        "id": "ujdQ4OZHFuJP",
        "outputId": "f62fe9a8-6897-496a-cb65-fdbb045c464e",
        "collapsed": true
      },
      "execution_count": null,
      "outputs": [
        {
          "output_type": "stream",
          "name": "stdout",
          "text": [
            "This : 2\n",
            "is : 1\n",
            "a : 1\n",
            "sample : 1\n",
            "text. : 1\n",
            "text : 1\n",
            "will : 1\n",
            "be : 1\n",
            "used : 1\n",
            "to : 1\n",
            "demonstrate : 1\n",
            "the : 1\n",
            "word : 1\n",
            "counter. : 1\n"
          ]
        }
      ]
    },
    {
      "cell_type": "markdown",
      "source": [
        "Exercise 5: Check for Palindrome\n",
        "\n",
        "\n",
        "Write a Python function called is_palindrome that takes a string as input and returns True if the string is a palindrome, and False otherwise. A palindrome is a word, phrase, number, or other sequence of characters that reads the same forward and backward, ignoring spaces, punctuation, and capitalization.\n",
        "Example:\n",
        "Input: \"racecar\"\n",
        "Expected Output: True\n"
      ],
      "metadata": {
        "id": "tqszIxlIGQ66"
      }
    },
    {
      "cell_type": "code",
      "source": [
        "def is_palindrome(input_string):\n",
        "\n",
        "    input_string = input_string.lower()\n",
        "    input_string = input_string.replace(\" \", \"\")\n",
        "    return input_string == input_string[::-1]\n",
        "input_text = \"Malayalam\"\n",
        "result = is_palindrome(input_text)\n",
        "print(\"Is\", input_text, \"a palindrome?\", result)\n"
      ],
      "metadata": {
        "colab": {
          "base_uri": "https://localhost:8080/"
        },
        "id": "Clvk46zyGfVk",
        "outputId": "6d7b9f24-a79a-421c-dc16-be9fb29c01d0"
      },
      "execution_count": null,
      "outputs": [
        {
          "output_type": "stream",
          "name": "stdout",
          "text": [
            "Is Malayalam a palindrome? True\n"
          ]
        }
      ]
    }
  ]
}