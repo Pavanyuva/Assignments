{
  "nbformat": 4,
  "nbformat_minor": 0,
  "metadata": {
    "colab": {
      "provenance": []
    },
    "kernelspec": {
      "name": "python3",
      "display_name": "Python 3"
    },
    "language_info": {
      "name": "python"
    }
  },
  "cells": [
    {
      "cell_type": "markdown",
      "source": [
        "1. State the Hypotheses:"
      ],
      "metadata": {
        "id": "WHbDR7kz-7kg"
      }
    },
    {
      "cell_type": "markdown",
      "source": [
        "Null Hypothesis (H₀): There is no association between the type of smart home device (Smart Thermostat or Smart Light) and customer satisfaction.\n",
        "\n",
        "Alternative Hypothesis (H₁): There is a significant association between the type of smart home device and customer satisfaction."
      ],
      "metadata": {
        "id": "GvOgsTjM-42l"
      }
    },
    {
      "cell_type": "code",
      "execution_count": 3,
      "metadata": {
        "id": "GZO5nR5smMXr"
      },
      "outputs": [],
      "source": []
    },
    {
      "cell_type": "markdown",
      "source": [
        "2. Compute the Chi-Square Statistic:"
      ],
      "metadata": {
        "id": "zhtZ8UnQ_D2R"
      }
    },
    {
      "cell_type": "markdown",
      "source": [
        "χ\n",
        "2\n",
        " =∑\n",
        "E\n",
        "(O−E)\n",
        "2\n",
        " /E\n",
        "\n",
        " O is the observed frequency (from the table).\n",
        "\n",
        "𝐸 is the expected frequency, calculated as:\n",
        "\n",
        "𝐸\n",
        "=\n",
        "(\n",
        "Row Total\n",
        "×\n",
        "Column Total\n",
        ")/\n",
        "Grand Total\n",
        "\n"
      ],
      "metadata": {
        "id": "yIltoLmHBy5E"
      }
    },
    {
      "cell_type": "code",
      "source": [],
      "metadata": {
        "id": "cz_bmyzp_ERI"
      },
      "execution_count": 3,
      "outputs": []
    },
    {
      "cell_type": "markdown",
      "source": [
        "3. Determine the Critical Value:"
      ],
      "metadata": {
        "id": "oKyeJdjQC0nN"
      }
    },
    {
      "cell_type": "markdown",
      "source": [
        "significance level (α = 0.05)\n",
        "\n",
        "degrees of freedom (df)\n",
        "\n",
        "df=(r−1)(c−1)\n",
        "\n",
        "r is the number of rows\n",
        "\n",
        "c is the number of columns"
      ],
      "metadata": {
        "id": "EWRjQy20DSGt"
      }
    },
    {
      "cell_type": "markdown",
      "source": [
        "df=(5−1)(2−1)=4\n",
        "\n",
        "Python functions for Chi-Square with df = 4 and α = 0.05."
      ],
      "metadata": {
        "id": "uff3wQ1EDc6k"
      }
    },
    {
      "cell_type": "code",
      "source": [],
      "metadata": {
        "id": "SudfjwJWC1CU"
      },
      "execution_count": 3,
      "outputs": []
    },
    {
      "cell_type": "markdown",
      "source": [
        "4. Make a Decision"
      ],
      "metadata": {
        "id": "MBM_5yOnDyfu"
      }
    },
    {
      "cell_type": "code",
      "source": [
        "import numpy as np\n",
        "import scipy.stats as stats"
      ],
      "metadata": {
        "id": "_xr1jXKkDy61"
      },
      "execution_count": 4,
      "outputs": []
    },
    {
      "cell_type": "code",
      "source": [
        "observed= np.array([[50,70],\n",
        "                    [80,100],\n",
        "                    [60,80],\n",
        "                    [30,50],\n",
        "                    [20,50]])\n",
        "row_totals=np.array([120,180,140,80,70])\n",
        "col_totals=np.array([240,360])\n",
        "grand_total=600\n",
        "\n",
        "Expected = np.outer(row_totals,col_totals)/grand_total\n",
        "chi_squre_stat=((observed-Expected)**2/ Expected).sum()\n",
        "df =(len(row_totals)-1)*(len(col_totals-1))\n",
        "\n",
        "alpha=0.05\n",
        "critical_value=stats.chi2.ppf(1-alpha,df)\n",
        "\n",
        "print(f\"Chi-Square Statictic:{chi_squre_stat}\")\n",
        "print(f\"Critical Value:{critical_value}\")\n",
        "\n",
        "#Desicion\n",
        "if chi_squre_stat>critical_value:\n",
        "  print(\"Reject the null hypothesis: There is a significant association between device type and customer satisfaction.\")\n",
        "else:\n",
        "  print(\"Fail to reject the null hypothesis: There is no significant association between device type and customer satisfaction.\")"
      ],
      "metadata": {
        "colab": {
          "base_uri": "https://localhost:8080/"
        },
        "id": "2j3DpEOgD2is",
        "outputId": "7a1d986a-b291-4c6f-db9e-de6a9ae9598d"
      },
      "execution_count": 5,
      "outputs": [
        {
          "output_type": "stream",
          "name": "stdout",
          "text": [
            "Chi-Square Statictic:6.114417989417989\n",
            "Critical Value:15.50731305586545\n",
            "Fail to reject the null hypothesis: There is no significant association between device type and customer satisfaction.\n"
          ]
        }
      ]
    },
    {
      "cell_type": "code",
      "source": [],
      "metadata": {
        "id": "DNobKVJJIMFm"
      },
      "execution_count": 5,
      "outputs": []
    }
  ]
}