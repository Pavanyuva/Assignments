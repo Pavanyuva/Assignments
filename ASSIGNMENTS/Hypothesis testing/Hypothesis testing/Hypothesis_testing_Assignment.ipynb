{
  "nbformat": 4,
  "nbformat_minor": 0,
  "metadata": {
    "colab": {
      "provenance": []
    },
    "kernelspec": {
      "name": "python3",
      "display_name": "Python 3"
    },
    "language_info": {
      "name": "python"
    }
  },
  "cells": [
    {
      "cell_type": "markdown",
      "source": [
        "1. State the Hypotheses statement\n",
        "\n",
        "1.Null Hypothesis (H₀):The observed weekly operating cost are equal to the theoretical model H₀=μ Theoretical cost\n",
        "\n",
        "2.Alternative Hypothesis (H₁) : The observed weekly operating cost are higher than the theoritical model H₁:μ > Theoretical cost"
      ],
      "metadata": {
        "id": "dF9fww9YFk5J"
      }
    },
    {
      "cell_type": "code",
      "execution_count": 1,
      "metadata": {
        "id": "mpDCK4DNsevN"
      },
      "outputs": [],
      "source": [
        "import pandas as pd\n",
        "import numpy as np\n",
        "from scipy import stats"
      ]
    },
    {
      "cell_type": "code",
      "source": [],
      "metadata": {
        "id": "5gGtZSmIGJMA"
      },
      "execution_count": 1,
      "outputs": []
    },
    {
      "cell_type": "markdown",
      "source": [
        "2. Calculate the Test Statistic:"
      ],
      "metadata": {
        "id": "Qyh7_hcnGFCQ"
      }
    },
    {
      "cell_type": "markdown",
      "source": [
        "Sample mean(ˉxˉ) = 3050\n",
        "\n",
        "Sample Size(n) = 25\n",
        "\n",
        "NUmber of Units Product(X) : 600\n",
        "\n",
        "The theoretical weekly operating cost model: W = $1,000 + $5X\n",
        "\n",
        "Calculated Weekly operating cost (μ) =1000 + 5 * 600 = $4000\n",
        "\n",
        "Standard deviation (σ) = 5*25 = 125\n",
        "\n",
        "test statistic (t):?\n",
        "\n",
        "Null Hypothesis - The average spending is not significantly higher than 3050.\n",
        "we can say that cost model is wrong.\n",
        "\n",
        "Alternate Hypothesis - The average spending is significantly higher than 3050.\n",
        "we can say that cost model is right"
      ],
      "metadata": {
        "id": "6X3xatPGOJE4"
      }
    },
    {
      "cell_type": "code",
      "source": [
        "#test statistic=(sample mean -pop mean)/(std / std error)\n",
        "t=(3050-4000)/(125/np.sqrt(25))\n",
        "t"
      ],
      "metadata": {
        "id": "HcQYAklSOBp-",
        "colab": {
          "base_uri": "https://localhost:8080/"
        },
        "outputId": "b5bf017c-06bb-4730-d4cf-429f052d2361"
      },
      "execution_count": 2,
      "outputs": [
        {
          "output_type": "execute_result",
          "data": {
            "text/plain": [
              "-38.0"
            ]
          },
          "metadata": {},
          "execution_count": 2
        }
      ]
    },
    {
      "cell_type": "code",
      "source": [
        "#Cummulative Density Function\n",
        "#Degree of freedom (df) = sample size minus one= 25-1=24\n",
        "stats.t.cdf(t,24)"
      ],
      "metadata": {
        "colab": {
          "base_uri": "https://localhost:8080/"
        },
        "id": "-g-ETqI6Me2L",
        "outputId": "1ba99e53-1343-4584-850c-efbbd00a7506"
      },
      "execution_count": 3,
      "outputs": [
        {
          "output_type": "execute_result",
          "data": {
            "text/plain": [
              "2.9607810808177907e-23"
            ]
          },
          "metadata": {},
          "execution_count": 3
        }
      ]
    },
    {
      "cell_type": "markdown",
      "source": [
        "This function essentially tells you the left-tailed probability\n",
        "\n",
        "For a very negative test statistic like t=-38 the CDF will be very close to 0, indicating that such an extreme result is highly unlikely under the null hypothesis."
      ],
      "metadata": {
        "id": "REnjjSEwOA19"
      }
    },
    {
      "cell_type": "code",
      "source": [],
      "metadata": {
        "id": "4vk1-naCNFup"
      },
      "execution_count": 3,
      "outputs": []
    },
    {
      "cell_type": "markdown",
      "source": [
        "3. Determine the Critical Value:"
      ],
      "metadata": {
        "id": "GIH_TyrROUem"
      }
    },
    {
      "cell_type": "code",
      "source": [],
      "metadata": {
        "id": "cBYMBGaPLfsV"
      },
      "execution_count": 3,
      "outputs": []
    },
    {
      "cell_type": "markdown",
      "source": [
        "Because of t value is negative this is one tail test\n",
        "\n",
        "α = 0.05, we use the Z-table to find the critical value\n",
        "\n",
        "α = 0.05 is approximately 1.645."
      ],
      "metadata": {
        "id": "8FxrmV8RUcb8"
      }
    },
    {
      "cell_type": "code",
      "source": [],
      "metadata": {
        "id": "QOqFwUnjOVM-"
      },
      "execution_count": 3,
      "outputs": []
    },
    {
      "cell_type": "markdown",
      "source": [
        "4. Make a Decision"
      ],
      "metadata": {
        "id": "pFHPwJlgk-pg"
      }
    },
    {
      "cell_type": "markdown",
      "source": [
        "Test Statistic (t): -38\n",
        "\n",
        "Critical Value (z): 1.645\n",
        "\n",
        "Since the test statistic (-38) is much less than the critical value (1.645), we fail to reject the null hypothesis."
      ],
      "metadata": {
        "id": "oqmxHqRBlBfe"
      }
    },
    {
      "cell_type": "code",
      "source": [],
      "metadata": {
        "id": "CFMWrHMKlA0k"
      },
      "execution_count": 3,
      "outputs": []
    },
    {
      "cell_type": "markdown",
      "source": [
        "5. Conclusion"
      ],
      "metadata": {
        "id": "CqF9FQXdlPUE"
      }
    },
    {
      "cell_type": "markdown",
      "source": [
        "Based on the decision in step 4, there is not enough evidence to reject the null hypothesis. Therefore, we do not have strong evidence to support the restaurant owners' claim that the weekly operating costs are higher than the model suggests."
      ],
      "metadata": {
        "id": "7PWn_zanlQT8"
      }
    },
    {
      "cell_type": "code",
      "source": [],
      "metadata": {
        "id": "j88qpFa5lPt1"
      },
      "execution_count": 3,
      "outputs": []
    }
  ]
}